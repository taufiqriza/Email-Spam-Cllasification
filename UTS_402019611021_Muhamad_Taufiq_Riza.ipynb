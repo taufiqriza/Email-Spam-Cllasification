{
 "cells": [
  {
   "cell_type": "markdown",
   "id": "7b5b3ad3",
   "metadata": {},
   "source": [
    "**UTS Natural Language Processing**\n",
    "\n",
    "* **Nama   : Muhamad Taufiq Riza**\n",
    "* **NIM    : 402019611021**\n",
    "* **Materi : Klasifikasi Text Menggunakan Metode Supoert Vector Mechine**"
   ]
  },
  {
   "cell_type": "markdown",
   "id": "0c13c4fd",
   "metadata": {},
   "source": [
    "**Import Library**"
   ]
  },
  {
   "cell_type": "code",
   "execution_count": 8,
   "id": "5b06bee0",
   "metadata": {},
   "outputs": [],
   "source": [
    "import numpy as np\n",
    "import pandas as pd\n",
    "import nltk\n",
    "import seaborn as sns\n",
    "import matplotlib as plt\n",
    "import matplotlib.pyplot as plt\n",
    "from sklearn.feature_extraction.text import CountVectorizer\n",
    "from nltk.corpus import stopwords\n",
    "from wordcloud import WordCloud, STOPWORDS\n",
    "from nltk.stem import WordNetLemmatizer\n",
    "from nltk.tokenize import word_tokenize\n",
    "from nltk.tokenize.toktok import ToktokTokenizer\n",
    "from nltk.stem import LancasterStemmer,WordNetLemmatizer\n",
    "import re,string,unicodedata\n",
    "from string import punctuation"
   ]
  },
  {
   "cell_type": "markdown",
   "id": "f271ad36",
   "metadata": {},
   "source": [
    "**Load Dataset**"
   ]
  },
  {
   "cell_type": "code",
   "execution_count": 9,
   "id": "8049ebf8",
   "metadata": {},
   "outputs": [
    {
     "data": {
      "text/html": [
       "<div>\n",
       "<style scoped>\n",
       "    .dataframe tbody tr th:only-of-type {\n",
       "        vertical-align: middle;\n",
       "    }\n",
       "\n",
       "    .dataframe tbody tr th {\n",
       "        vertical-align: top;\n",
       "    }\n",
       "\n",
       "    .dataframe thead th {\n",
       "        text-align: right;\n",
       "    }\n",
       "</style>\n",
       "<table border=\"1\" class=\"dataframe\">\n",
       "  <thead>\n",
       "    <tr style=\"text-align: right;\">\n",
       "      <th></th>\n",
       "      <th>hs_class</th>\n",
       "      <th>text</th>\n",
       "    </tr>\n",
       "  </thead>\n",
       "  <tbody>\n",
       "    <tr>\n",
       "      <th>0</th>\n",
       "      <td>positive</td>\n",
       "      <td>- di saat semua cowok berusaha melacak perhati...</td>\n",
       "    </tr>\n",
       "    <tr>\n",
       "      <th>1</th>\n",
       "      <td>negative</td>\n",
       "      <td>siapa yang telat memberi tau elu?edan sarap gu...</td>\n",
       "    </tr>\n",
       "    <tr>\n",
       "      <th>2</th>\n",
       "      <td>negative</td>\n",
       "      <td>41. Kadang aku berfikir, kenapa aku tetap perc...</td>\n",
       "    </tr>\n",
       "    <tr>\n",
       "      <th>3</th>\n",
       "      <td>negative</td>\n",
       "      <td>AKU ITU AKU nKU TAU MATAMU SIPIT TAPI DILIAT D...</td>\n",
       "    </tr>\n",
       "    <tr>\n",
       "      <th>4</th>\n",
       "      <td>positive</td>\n",
       "      <td>Kaum cebong kafir sudah kelihatan dongoknya da...</td>\n",
       "    </tr>\n",
       "  </tbody>\n",
       "</table>\n",
       "</div>"
      ],
      "text/plain": [
       "   hs_class                                               text\n",
       "0  positive  - di saat semua cowok berusaha melacak perhati...\n",
       "1  negative  siapa yang telat memberi tau elu?edan sarap gu...\n",
       "2  negative  41. Kadang aku berfikir, kenapa aku tetap perc...\n",
       "3  negative  AKU ITU AKU nKU TAU MATAMU SIPIT TAPI DILIAT D...\n",
       "4  positive  Kaum cebong kafir sudah kelihatan dongoknya da..."
      ]
     },
     "execution_count": 9,
     "metadata": {},
     "output_type": "execute_result"
    }
   ],
   "source": [
    "df = pd.read_csv('train_preprocessed.csv', encoding = 'latin')\n",
    "df.head()"
   ]
  },
  {
   "cell_type": "markdown",
   "id": "51e235dd",
   "metadata": {},
   "source": [
    "**Describe Data**"
   ]
  },
  {
   "cell_type": "code",
   "execution_count": 10,
   "id": "ef58cf85",
   "metadata": {},
   "outputs": [
    {
     "name": "stderr",
     "output_type": "stream",
     "text": [
      "C:\\Python310\\lib\\site-packages\\seaborn\\_decorators.py:36: FutureWarning: Pass the following variable as a keyword arg: x. From version 0.12, the only valid positional argument will be `data`, and passing other arguments without an explicit keyword will result in an error or misinterpretation.\n",
      "  warnings.warn(\n"
     ]
    },
    {
     "data": {
      "text/plain": [
       "<AxesSubplot:xlabel='hs_class', ylabel='count'>"
      ]
     },
     "execution_count": 10,
     "metadata": {},
     "output_type": "execute_result"
    },
    {
     "data": {
      "image/png": "[encoded data removed]",
      "text/plain": [
       "<Figure size 432x288 with 1 Axes>"
      ]
     },
     "metadata": {
      "needs_background": "light"
     },
     "output_type": "display_data"
    }
   ],
   "source": [
    "sns.set(style = 'darkgrid', font_scale = 1.2)\n",
    "sns.countplot(df.hs_class) "
   ]
  },
  {
   "cell_type": "code",
   "execution_count": 11,
   "id": "c82b5d62",
   "metadata": {},
   "outputs": [
    {
     "data": {
      "text/plain": [
       "hs_class     0\n",
       "text        36\n",
       "dtype: int64"
      ]
     },
     "execution_count": 11,
     "metadata": {},
     "output_type": "execute_result"
    }
   ],
   "source": [
    "df.isna().sum()"
   ]
  },
  {
   "cell_type": "code",
   "execution_count": 13,
   "id": "206058c9",
   "metadata": {},
   "outputs": [
    {
     "data": {
      "text/html": [
       "<div>\n",
       "<style scoped>\n",
       "    .dataframe tbody tr th:only-of-type {\n",
       "        vertical-align: middle;\n",
       "    }\n",
       "\n",
       "    .dataframe tbody tr th {\n",
       "        vertical-align: top;\n",
       "    }\n",
       "\n",
       "    .dataframe thead th {\n",
       "        text-align: right;\n",
       "    }\n",
       "</style>\n",
       "<table border=\"1\" class=\"dataframe\">\n",
       "  <thead>\n",
       "    <tr style=\"text-align: right;\">\n",
       "      <th></th>\n",
       "      <th>hs_class</th>\n",
       "      <th>text</th>\n",
       "    </tr>\n",
       "  </thead>\n",
       "  <tbody>\n",
       "    <tr>\n",
       "      <th>count</th>\n",
       "      <td>13169</td>\n",
       "      <td>13133</td>\n",
       "    </tr>\n",
       "    <tr>\n",
       "      <th>unique</th>\n",
       "      <td>2</td>\n",
       "      <td>12943</td>\n",
       "    </tr>\n",
       "    <tr>\n",
       "      <th>top</th>\n",
       "      <td>negative</td>\n",
       "      <td>'</td>\n",
       "    </tr>\n",
       "    <tr>\n",
       "      <th>freq</th>\n",
       "      <td>7608</td>\n",
       "      <td>7</td>\n",
       "    </tr>\n",
       "  </tbody>\n",
       "</table>\n",
       "</div>"
      ],
      "text/plain": [
       "        hs_class   text\n",
       "count      13169  13133\n",
       "unique         2  12943\n",
       "top     negative      '\n",
       "freq        7608      7"
      ]
     },
     "execution_count": 13,
     "metadata": {},
     "output_type": "execute_result"
    }
   ],
   "source": [
    "df.describe()"
   ]
  },
  {
   "cell_type": "code",
   "execution_count": 17,
   "id": "588577bc",
   "metadata": {},
   "outputs": [
    {
     "data": {
      "text/plain": [
       "(13169, 2)"
      ]
     },
     "execution_count": 17,
     "metadata": {},
     "output_type": "execute_result"
    }
   ],
   "source": [
    "df.shape"
   ]
  },
  {
   "cell_type": "code",
   "execution_count": 18,
   "id": "f3253fcc",
   "metadata": {},
   "outputs": [],
   "source": [
    "df[[\"text\"]] = df[[\"text\"]].astype('str')"
   ]
  },
  {
   "cell_type": "code",
   "execution_count": 19,
   "id": "f4fc2e2d",
   "metadata": {},
   "outputs": [],
   "source": [
    "def hapus_kurung(text):\n",
    "      return re.sub('\\[[^]]*\\]', '', text)\n",
    "def hapus_url(text):\n",
    "    return re.sub(r'http\\S+', '', text)\n",
    "\n",
    "def remove_special_characters(text, remove_digits=True):\n",
    "    pattern=r'[^a-zA-Z0-9\\s]'\n",
    "    text=re.sub(pattern,'',text)\n",
    "    return text\n",
    "\n",
    "def stemmer(text):\n",
    "    ps=nltk.porter.PorterStemmer()\n",
    "    text= ' '.join([ps.stem(word) for word in text.split()])\n",
    "    return text"
   ]
  },
  {
   "cell_type": "code",
   "execution_count": 20,
   "id": "2fc2df9f",
   "metadata": {},
   "outputs": [
    {
     "name": "stderr",
     "output_type": "stream",
     "text": [
      "[nltk_data] Downloading package stopwords to\n",
      "[nltk_data]     C:\\Users\\muham\\AppData\\Roaming\\nltk_data...\n",
      "[nltk_data]   Package stopwords is already up-to-date!\n"
     ]
    }
   ],
   "source": [
    "nltk.download('stopwords')\n",
    "stop = set(stopwords.words('indonesian'))\n",
    "punctuation = list(string.punctuation)\n",
    "stop.update(punctuation)"
   ]
  },
  {
   "cell_type": "code",
   "execution_count": 21,
   "id": "764e0af7",
   "metadata": {},
   "outputs": [],
   "source": [
    "def remove_stopwords(text):\n",
    "    final_text = []\n",
    "    for i in text.split():\n",
    "        if i.strip().lower() not in stop and i.strip().lower().isalpha():\n",
    "            final_text.append(i.strip().lower())\n",
    "            \n",
    "    return \" \".join(final_text)"
   ]
  },
  {
   "cell_type": "code",
   "execution_count": 22,
   "id": "47341279",
   "metadata": {},
   "outputs": [],
   "source": [
    "def clean_text(text):\n",
    "    text = hapus_kurung(text)\n",
    "    text = hapus_url(text)\n",
    "    text = remove_special_characters(text, remove_digits=True)\n",
    "    text = stemmer(text)\n",
    "    text = remove_stopwords(text)\n",
    "    return text"
   ]
  },
  {
   "cell_type": "code",
   "execution_count": 23,
   "id": "96fa6fd5",
   "metadata": {},
   "outputs": [],
   "source": [
    "df['text'] = df['text'].apply(clean_text)"
   ]
  },
  {
   "cell_type": "code",
   "execution_count": 24,
   "id": "c87e9a32",
   "metadata": {},
   "outputs": [
    {
     "data": {
      "text/html": [
       "<div>\n",
       "<style scoped>\n",
       "    .dataframe tbody tr th:only-of-type {\n",
       "        vertical-align: middle;\n",
       "    }\n",
       "\n",
       "    .dataframe tbody tr th {\n",
       "        vertical-align: top;\n",
       "    }\n",
       "\n",
       "    .dataframe thead th {\n",
       "        text-align: right;\n",
       "    }\n",
       "</style>\n",
       "<table border=\"1\" class=\"dataframe\">\n",
       "  <thead>\n",
       "    <tr style=\"text-align: right;\">\n",
       "      <th></th>\n",
       "      <th>hs_class</th>\n",
       "      <th>text</th>\n",
       "    </tr>\n",
       "  </thead>\n",
       "  <tbody>\n",
       "    <tr>\n",
       "      <th>0</th>\n",
       "      <td>positive</td>\n",
       "      <td>cowok berusaha melacak perhatian gue lanta rem...</td>\n",
       "    </tr>\n",
       "    <tr>\n",
       "      <th>1</th>\n",
       "      <td>negative</td>\n",
       "      <td>telat tau eluedan sarap gue bergaul ciga ifla ...</td>\n",
       "    </tr>\n",
       "    <tr>\n",
       "      <th>2</th>\n",
       "      <td>negative</td>\n",
       "      <td>kadang berfikir percaya tuhan padah jatuh berk...</td>\n",
       "    </tr>\n",
       "    <tr>\n",
       "      <th>3</th>\n",
       "      <td>negative</td>\n",
       "      <td>nku tau matamu sipit diliat</td>\n",
       "    </tr>\n",
       "    <tr>\n",
       "      <th>4</th>\n",
       "      <td>positive</td>\n",
       "      <td>kaum cebong kafir dongoknya dungu hahahah</td>\n",
       "    </tr>\n",
       "    <tr>\n",
       "      <th>...</th>\n",
       "      <td>...</td>\n",
       "      <td>...</td>\n",
       "    </tr>\n",
       "    <tr>\n",
       "      <th>95</th>\n",
       "      <td>positive</td>\n",
       "      <td>jgn salah target ahok agenda utama lengserkan ...</td>\n",
       "    </tr>\n",
       "    <tr>\n",
       "      <th>96</th>\n",
       "      <td>positive</td>\n",
       "      <td>kena tagar kepanasan kepo banget</td>\n",
       "    </tr>\n",
       "    <tr>\n",
       "      <th>97</th>\n",
       "      <td>negative</td>\n",
       "      <td>maju duit goyang kaki pape duit nak maju kat b...</td>\n",
       "    </tr>\n",
       "    <tr>\n",
       "      <th>98</th>\n",
       "      <td>negative</td>\n",
       "      <td>hkbp berdiri pecahnya kristen katolik zaman pe...</td>\n",
       "    </tr>\n",
       "    <tr>\n",
       "      <th>99</th>\n",
       "      <td>negative</td>\n",
       "      <td>ha baca biar pintar jepang amerika china utang...</td>\n",
       "    </tr>\n",
       "  </tbody>\n",
       "</table>\n",
       "<p>100 rows × 2 columns</p>\n",
       "</div>"
      ],
      "text/plain": [
       "    hs_class                                               text\n",
       "0   positive  cowok berusaha melacak perhatian gue lanta rem...\n",
       "1   negative  telat tau eluedan sarap gue bergaul ciga ifla ...\n",
       "2   negative  kadang berfikir percaya tuhan padah jatuh berk...\n",
       "3   negative                        nku tau matamu sipit diliat\n",
       "4   positive          kaum cebong kafir dongoknya dungu hahahah\n",
       "..       ...                                                ...\n",
       "95  positive  jgn salah target ahok agenda utama lengserkan ...\n",
       "96  positive                   kena tagar kepanasan kepo banget\n",
       "97  negative  maju duit goyang kaki pape duit nak maju kat b...\n",
       "98  negative  hkbp berdiri pecahnya kristen katolik zaman pe...\n",
       "99  negative  ha baca biar pintar jepang amerika china utang...\n",
       "\n",
       "[100 rows x 2 columns]"
      ]
     },
     "execution_count": 24,
     "metadata": {},
     "output_type": "execute_result"
    }
   ],
   "source": [
    "df.head(100)"
   ]
  },
  {
   "cell_type": "markdown",
   "id": "2c87931b",
   "metadata": {},
   "source": [
    "**Klasifikasi tweet positif dan negatif**"
   ]
  },
  {
   "cell_type": "code",
   "execution_count": 25,
   "id": "eff2b997",
   "metadata": {},
   "outputs": [],
   "source": [
    "text = df['text'].values.tolist()\n",
    "label = df['hs_class'].values"
   ]
  },
  {
   "cell_type": "code",
   "execution_count": 26,
   "id": "3038bd9c",
   "metadata": {},
   "outputs": [],
   "source": [
    "from sklearn.feature_extraction.text import CountVectorizer\n",
    "from sklearn.feature_extraction.text import TfidfVectorizer"
   ]
  },
  {
   "cell_type": "code",
   "execution_count": 27,
   "id": "24d8579f",
   "metadata": {},
   "outputs": [],
   "source": [
    "tfidf_vectorizer = TfidfVectorizer().fit(text)\n",
    "tfidf_text = tfidf_vectorizer.transform(text)"
   ]
  },
  {
   "cell_type": "code",
   "execution_count": 28,
   "id": "1de59921",
   "metadata": {},
   "outputs": [],
   "source": [
    "from sklearn.model_selection import train_test_split\n",
    "X_train, X_test, y_train, y_test = train_test_split(tfidf_text, label, test_size = 0.3, random_state = 123)"
   ]
  },
  {
   "cell_type": "code",
   "execution_count": 29,
   "id": "b76d271c",
   "metadata": {},
   "outputs": [],
   "source": [
    "from sklearn.svm import SVC\n",
    "from sklearn.metrics import classification_report"
   ]
  },
  {
   "cell_type": "code",
   "execution_count": 30,
   "id": "fc5fb6c3",
   "metadata": {},
   "outputs": [],
   "source": [
    "model = SVC().fit(X_train,y_train)"
   ]
  },
  {
   "cell_type": "markdown",
   "id": "8ecb769c",
   "metadata": {},
   "source": [
    "**Report result**"
   ]
  },
  {
   "cell_type": "code",
   "execution_count": 19,
   "id": "df600570",
   "metadata": {},
   "outputs": [
    {
     "name": "stdout",
     "output_type": "stream",
     "text": [
      "              precision    recall  f1-score   support\n",
      "\n",
      "    negative       0.93      0.80      0.86      2658\n",
      "    positive       0.68      0.87      0.76      1293\n",
      "\n",
      "    accuracy                           0.82      3951\n",
      "   macro avg       0.80      0.83      0.81      3951\n",
      "weighted avg       0.84      0.82      0.83      3951\n",
      "\n"
     ]
    }
   ],
   "source": [
    "pred_svm = model.predict(X_test)\n",
    "print(classification_report(pred_svm, y_test))"
   ]
  },
  {
   "cell_type": "code",
   "execution_count": 20,
   "id": "6be08351",
   "metadata": {},
   "outputs": [
    {
     "data": {
      "text/plain": [
       "array([[2117,  541],\n",
       "       [ 167, 1126]])"
      ]
     },
     "execution_count": 20,
     "metadata": {},
     "output_type": "execute_result"
    }
   ],
   "source": [
    "from sklearn.metrics import confusion_matrix\n",
    "confusion_matrix(pred_svm, y_test)"
   ]
  },
  {
   "cell_type": "code",
   "execution_count": null,
   "id": "70842a04",
   "metadata": {},
   "outputs": [],
   "source": []
  }
 ],
 "metadata": {
  "kernelspec": {
   "display_name": "Python 3 (ipykernel)",
   "language": "python",
   "name": "python3"
  },
  "language_info": {
   "codemirror_mode": {
    "name": "ipython",
    "version": 3
   },
   "file_extension": ".py",
   "mimetype": "text/x-python",
   "name": "python",
   "nbconvert_exporter": "python",
   "pygments_lexer": "ipython3",
   "version": "3.10.5"
  }
 },
 "nbformat": 4,
 "nbformat_minor": 5
}
